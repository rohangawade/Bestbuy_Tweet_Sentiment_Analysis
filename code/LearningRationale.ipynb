{
 "cells": [
  {
   "cell_type": "code",
   "execution_count": 1,
   "metadata": {},
   "outputs": [],
   "source": [
    "import pandas as pd\n",
    "import numpy as np\n",
    "from sklearn.feature_extraction.text import CountVectorizer,TfidfVectorizer\n",
    "from scipy.sparse import csr_matrix\n",
    "from textblob import TextBlob\n",
    "from sklearn.feature_selection import chi2"
   ]
  },
  {
   "cell_type": "code",
   "execution_count": 2,
   "metadata": {},
   "outputs": [],
   "source": [
    "# Read the file\n",
    "df = pd.read_csv(\"BestBuy_Data.csv\",na_filter=False)"
   ]
  },
  {
   "cell_type": "code",
   "execution_count": 3,
   "metadata": {},
   "outputs": [],
   "source": [
    "# Drop the NA values\n",
    "df1 = df.dropna() "
   ]
  },
  {
   "cell_type": "code",
   "execution_count": 4,
   "metadata": {},
   "outputs": [],
   "source": [
    "positive_rationale = []\n",
    "negative_rationale = []"
   ]
  },
  {
   "cell_type": "code",
   "execution_count": 5,
   "metadata": {},
   "outputs": [
    {
     "name": "stdout",
     "output_type": "stream",
     "text": [
      "['available', '', 'sneaking', '', 'easy', 'thank', '', 'early', '', 'happy', 'love', 'fun', 'better', 'better', 'interesting', 'know', '', '', '', 'good', 'cheap', 'deals', 'released', 'great', 'good', 'real', 'great', 'right', 'perfectly', \"can't hurt\", 'sure', 'run', 'gift', 'early', 'epic', 'really nice', '', 'new', 'right', 'same price', 'know', 'deals', 'top', 'cute', 'glad', 'connected', 'great', 'good deal', 'proud', 'excitement', 'thanks', 'free', 'need', 'exciting', 'easy', 'new', 'new', 'manage', 'deals', 'perfect', 'discount', 'unlimited', 'great find', 'well', 'thank', 'save', 'seeing', 'fun', 'treat', 'thanks', 'advantage', 'lit', 'need', 'hottest', 'thanks', 'tempting', 'extra', 'quick', 'right', 'want', 'saving', 'great', 'nice', 'respect', 'funny', 'good deal', 'sales', 'big', 'learn', '', 'pretty', 'perfect', 'welcome', 'profit', 'great', 'thanks', 'deal', 'clean', 'please', 'hottest', 'wise', 'new', 'great', 'deals', 'cheaper', 'glory', 'better', 'awesome', 'thanks', 'popular', 'pleasure', 'glory', 'buy', 'glory', 'early', 'more', 'thanks', 'amazing', 'investing', 'wow', 'glad', 'specials', 'improvements', 'reward', 'rock', 'helping', 'fix', 'faster']\n"
     ]
    }
   ],
   "source": [
    "# Get all positive rationales\n",
    "df1_pos = df1[df1['Sentiment'] == \"Positive\"]\n",
    "positive_rationale = [pos_rationale.lower() for pos_rationale in df1_pos['Rationale']]\n",
    "print(positive_rationale)"
   ]
  },
  {
   "cell_type": "code",
   "execution_count": 6,
   "metadata": {},
   "outputs": [
    {
     "name": "stdout",
     "output_type": "stream",
     "text": [
      "['frustrating', 'capitalism', 'crying', 'difficult', 'never buy', 'expensive', 'sorry', 'late', 'worse', 'delay', 'terrible', 'wait', 'pissed', 'barely understand', 'stop', 'omg', 'pathetic', 'outdated', 'waiting', 'anywhere', 'not received', 'breaks', 'bad', 'more', 'disappointed', 'charges', 'but', 'expect', 'no', 'sucks', 'learn', 'screwed', 'shit', 'down', 'dammit', 'cheap', 'bad', 'resolved', 'waited', 'issues', 'lose', 'away', '', 'scammed', 'shame', 'never buy', 'confused', 'no one', 'late', 'failed', 'fuck', 'suck', 'fuck', 'wait', 'restock', 'ignore us', 'elsewhere', 'never left', 'worst', 'slammed', 'lost', 'elsewhere', 'frustrating', 'worst', 'thief', 'damage', 'knows anything', 'no shipping', 'cancelled', 'sell', 'worst', 'dented', 'denied', 'no one', 'wait', 'bad', 'worst', 'never', 'horrible', 'sue', 'need', 'late', 'ignore', 'dealbreaker', 'disliked', 'pun', 'mad', 'hatred', 'not', 'not profound', 'mad', 'trash', 'sucks', 'ago', 'trash', 'waiting', 'exchanging', 'cost', 'hold', '', 'at least', 'hell', 'work', 'fucked', 'find', 'no', 'sad', 'fuck']\n"
     ]
    }
   ],
   "source": [
    "# Get all Negative Rationales\n",
    "df1_neg = df1[df1['Sentiment'] == \"Negative\"]\n",
    "negative_rationale = [neg_rationale.lower() for neg_rationale in df1_neg['Rationale']]\n",
    "print(negative_rationale)"
   ]
  },
  {
   "cell_type": "markdown",
   "metadata": {},
   "source": [
    "<h2>Use chi square to find rationales</h2>"
   ]
  },
  {
   "cell_type": "code",
   "execution_count": null,
   "metadata": {
    "collapsed": true
   },
   "outputs": [],
   "source": [
    "active_learning = 0\n",
    "# user to label each tweet\n",
    "# active_learning = 1"
   ]
  },
  {
   "cell_type": "code",
   "execution_count": 7,
   "metadata": {},
   "outputs": [],
   "source": [
    "df_chi =  df1[df1['Sentiment'].isin([\"Positive\",\"Negative\"])]\n",
    "cv = CountVectorizer()\n",
    "X = cv.fit_transform(df_chi['Text'])\n",
    "\n",
    "chi2score = chi2(X, df_chi['Sentiment'])[0]\n",
    "# print((chi2score))\n",
    "features = cv.get_feature_names()\n",
    "# print(features)"
   ]
  },
  {
   "cell_type": "code",
   "execution_count": 8,
   "metadata": {
    "collapsed": true
   },
   "outputs": [],
   "source": [
    "# In case more than one rationale choose using chi square"
   ]
  },
  {
   "cell_type": "code",
   "execution_count": 9,
   "metadata": {},
   "outputs": [],
   "source": [
    "def choose_rationale_ChiSquare(sentence,pos_rat,neg_rat,active_learning):\n",
    "    p_rat_list = list(pos_rat)\n",
    "    n_rat_list = list(neg_rat)\n",
    "    label =\"\"\n",
    "    rationale =\"\"\n",
    "    p_chi = []\n",
    "    p_chi_val=[]\n",
    "    n_chi = []\n",
    "    n_chi_val =[]\n",
    "    for r in p_rat_list:\n",
    "        #print(r)\n",
    "        arg = features.index(r)\n",
    "        p_chi.append(r)\n",
    "        p_chi_val.append(chi2score[arg])\n",
    "        #print(p_chi)\n",
    "        #print(p_chi_val)\n",
    "    for r in n_rat_list:\n",
    "        arg = features.index(r)\n",
    "        n_chi.append(r)\n",
    "        n_chi_val.append(chi2score[arg])\n",
    "        #print(n_chi)\n",
    "        #print(n_chi_val)\n",
    "    if sum(p_chi_val)>sum(n_chi_val):\n",
    "        lab = \"Positive\"\n",
    "        rat = p_chi[np.argmax(p_chi_val)]\n",
    "    elif sum(p_chi_val)<sum(n_chi_val):\n",
    "        lab = \"Negative\"\n",
    "        rat = n_chi[np.argmax(n_chi_val)]\n",
    "    else:\n",
    "        if active_learning == 0:\n",
    "            lab =\"NA\"\n",
    "            rat =\"NA\"\n",
    "\n",
    "# Active learning for label and rationale\n",
    "        if active_learning == 1:\n",
    "            if (len(pos_rat) == 0 and len(neg_rat) == 0) or (sum(p_chi_val)==sum(n_chi_val)):\n",
    "                print(\"If not able to give label or rationale - type NA\")\n",
    "                lab = input(\"Label to the tweet '\"+sentence+\"'\")\n",
    "                rat = input(\"Rationale to the tweet '\"+sentence+\"'\")\n",
    "                if lab == \"Positive\":\n",
    "                    if rat not in positive_rationale:\n",
    "                        positive_rationale.append(rat)\n",
    "                    else:\n",
    "                        print(\"Already exist\")\n",
    "                elif lab==\"Negative\":\n",
    "                    if rat not in negative_rationale:\n",
    "                        negative_rationale.append(rat)\n",
    "                    else:\n",
    "                        print(\"Already exist\")\n",
    "            \n",
    "    return lab,rat"
   ]
  },
  {
   "cell_type": "code",
   "execution_count": null,
   "metadata": {
    "collapsed": true
   },
   "outputs": [],
   "source": [
    "# Get the rationale for the tweet"
   ]
  },
  {
   "cell_type": "code",
   "execution_count": 10,
   "metadata": {},
   "outputs": [],
   "source": [
    "def find_ask_Label_Rationale(sentence,active_learning):\n",
    "    words = set(sentence.split())\n",
    "    pos_rat = {}\n",
    "    neg_rat = {}\n",
    "    if words & set(positive_rationale):\n",
    "        pos_rat = words & set(positive_rationale)\n",
    "    if words & set(negative_rationale):\n",
    "        neg_rat = words & set(negative_rationale)\n",
    "    \n",
    "    \n",
    "    label,rationale = choose_rationale_ChiSquare(sentence,pos_rat,neg_rat,active_learning)\n",
    "    return label,rationale"
   ]
  },
  {
   "cell_type": "code",
   "execution_count": null,
   "metadata": {
    "collapsed": true
   },
   "outputs": [],
   "source": [
    "#Uncomment following so that active learning can be implemented\n",
    "# goahead = \"Y\"\n",
    "#active_learning = 1"
   ]
  },
  {
   "cell_type": "code",
   "execution_count": 11,
   "metadata": {},
   "outputs": [],
   "source": [
    "count=0\n",
    "df.head()\n",
    "label =\"\"\n",
    "rationale = \"\"\n",
    "\n",
    "for index, row in df.iterrows():\n",
    "    \n",
    "    sentence=row['Text'].lower()\n",
    "    sentiment = row['Sentiment']\n",
    "    row_rationale = row['Rationale']\n",
    "    \n",
    "    if row_rationale == \"\" and sentiment == \"\" and len(sentence)>2:\n",
    "        #print(sentence)\n",
    "        label,rationale = find_ask_Label_Rationale(sentence,active_learning)\n",
    "        df['Sentiment'][index] = label\n",
    "        df['Rationale'][index] = rationale\n",
    "        #print(\"Label =\"+label)\n",
    "        #print(\"Rationale=\"+rationale)\n",
    "    \n",
    "        if (label == \"NA\") and (rationale == \"NA\"):\n",
    "            #print(df.index[index])\n",
    "            df.drop(df.index[index])\n",
    "            if goahead ==\"Y\":\n",
    "                goahead = input('Do you want to label more (Y/N)')\n",
    "                if goahead =='Y' and active_learning == 1:\n",
    "                    continue\n",
    "                else:\n",
    "                    #Using Chi Square to get rationale\n",
    "                    active_learning=0\n",
    "    count+=1\n",
    "    "
   ]
  },
  {
   "cell_type": "code",
   "execution_count": 21,
   "metadata": {},
   "outputs": [
    {
     "name": "stdout",
     "output_type": "stream",
     "text": [
      "If not able to give label or rationale - type NA\n",
      "Label to the tweet 'That does sound frustrating. @BestBuyCanHelp can you assist? ^Jessica'Negative\n",
      "Rationale to the tweet 'That does sound frustrating. @BestBuyCanHelp can you assist? ^Jessica'frustrating\n",
      "Already exist\n",
      "Negative\n",
      "frustrating\n"
     ]
    }
   ],
   "source": [
    "# An example to show active learning\n",
    "# active_learning = 1\n",
    "label,rationale = find_ask_Label_Rationale(\"That does sound frustrating. @BestBuyCanHelp can you assist? ^Jessica\",active_learning=1)\n",
    "print(label)\n",
    "print(rationale)\n"
   ]
  },
  {
   "cell_type": "code",
   "execution_count": 18,
   "metadata": {},
   "outputs": [],
   "source": [
    "# Get all positive and negative sentiment tweets and create a new csv"
   ]
  },
  {
   "cell_type": "code",
   "execution_count": 13,
   "metadata": {},
   "outputs": [],
   "source": [
    "df_new =  df[df['Sentiment'].isin([\"Positive\",\"Negative\"])]"
   ]
  },
  {
   "cell_type": "code",
   "execution_count": 15,
   "metadata": {
    "collapsed": true
   },
   "outputs": [],
   "source": [
    "df_new.to_csv(\"labelleddata.csv\",index=False)"
   ]
  }
 ],
 "metadata": {
  "kernelspec": {
   "display_name": "Python 3",
   "language": "python",
   "name": "python3"
  },
  "language_info": {
   "codemirror_mode": {
    "name": "ipython",
    "version": 3
   },
   "file_extension": ".py",
   "mimetype": "text/x-python",
   "name": "python",
   "nbconvert_exporter": "python",
   "pygments_lexer": "ipython3",
   "version": "3.6.1"
  }
 },
 "nbformat": 4,
 "nbformat_minor": 2
}
