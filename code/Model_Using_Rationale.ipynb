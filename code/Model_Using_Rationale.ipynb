{
 "cells": [
  {
   "cell_type": "code",
   "execution_count": 1,
   "metadata": {},
   "outputs": [
    {
     "name": "stderr",
     "output_type": "stream",
     "text": [
      "/home/rohan/anaconda3/lib/python3.6/site-packages/sklearn/cross_validation.py:41: DeprecationWarning: This module was deprecated in version 0.18 in favor of the model_selection module into which all the refactored classes and functions are moved. Also note that the interface of the new CV iterators are different from that of this module. This module will be removed in 0.20.\n",
      "  \"This module will be removed in 0.20.\", DeprecationWarning)\n"
     ]
    }
   ],
   "source": [
    "# -*- coding: utf-8 -*-\n",
    "from sklearn.feature_extraction.text import CountVectorizer,TfidfVectorizer\n",
    "from scipy.sparse import csr_matrix\n",
    "import pandas as pd\n",
    "import numpy as np\n",
    "from textblob import TextBlob\n",
    "from sklearn.utils import resample\n",
    "from sklearn.model_selection import train_test_split\n",
    "from sklearn.feature_selection import chi2\n",
    "from sklearn.naive_bayes import MultinomialNB\n",
    "from sklearn import metrics\n",
    "from sklearn import svm\n",
    "from sklearn.linear_model import LogisticRegression\n",
    "from sklearn import model_selection\n",
    "from sklearn import cross_validation\n",
    "from sklearn.model_selection import cross_val_score\n",
    "from sklearn.metrics import roc_curve, auc\n",
    "import matplotlib.pyplot as plt"
   ]
  },
  {
   "cell_type": "code",
   "execution_count": 2,
   "metadata": {},
   "outputs": [],
   "source": [
    "# readfile\n",
    "df = pd.read_csv(\"labelleddata.csv\",encoding = \"ISO-8859-1\")"
   ]
  },
  {
   "cell_type": "code",
   "execution_count": 3,
   "metadata": {},
   "outputs": [
    {
     "data": {
      "text/plain": [
       "Positive    3089\n",
       "Negative    2371\n",
       "Name: Sentiment, dtype: int64"
      ]
     },
     "execution_count": 3,
     "metadata": {},
     "output_type": "execute_result"
    }
   ],
   "source": [
    "df.head()\n",
    "# Display new class counts\n",
    "df.Sentiment.value_counts()"
   ]
  },
  {
   "cell_type": "code",
   "execution_count": 38,
   "metadata": {},
   "outputs": [
    {
     "data": {
      "text/plain": [
       "Positive    2371\n",
       "Negative    2371\n",
       "Name: Sentiment, dtype: int64"
      ]
     },
     "execution_count": 38,
     "metadata": {},
     "output_type": "execute_result"
    }
   ],
   "source": [
    "df_pos = df[df.Sentiment == 'Positive']\n",
    "df_neg = df[df.Sentiment == 'Negative']\n",
    "\n",
    "df_pos_downsampled = resample(df_pos, \n",
    "                                 replace=False,    # sample without replacement\n",
    "                                 n_samples=2371,     # to match minority class\n",
    "                                 random_state=123) # reproducible results\n",
    "\n",
    "# Combine minority class with downsampled majority class\n",
    "df_senti = pd.concat([df_pos_downsampled, df_neg])\n",
    "df_senti.head()\n",
    "# Display new class counts\n",
    "df_senti.Sentiment.value_counts()"
   ]
  },
  {
   "cell_type": "code",
   "execution_count": 6,
   "metadata": {},
   "outputs": [],
   "source": [
    "X = df_senti['Text']\n",
    "y = df_senti['Sentiment']\n",
    "rationale = df_senti['Rationale']"
   ]
  },
  {
   "cell_type": "markdown",
   "metadata": {},
   "source": [
    "<h1>Using Count Vectorizer</h1>"
   ]
  },
  {
   "cell_type": "markdown",
   "metadata": {},
   "source": [
    "<h2> Learning without Rationale</h2>"
   ]
  },
  {
   "cell_type": "code",
   "execution_count": 7,
   "metadata": {},
   "outputs": [],
   "source": [
    "X_train,X_test,y_train,y_test = train_test_split(X,y,test_size = 0.33, random_state = 0)\n",
    "count_vect = CountVectorizer()\n",
    "X_train = count_vect.fit_transform(X_train)\n",
    "X_test = count_vect.transform(X_test)"
   ]
  },
  {
   "cell_type": "markdown",
   "metadata": {},
   "source": [
    "<h2>Multinomial Naive Bayes - LwoR </h2>"
   ]
  },
  {
   "cell_type": "code",
   "execution_count": 8,
   "metadata": {},
   "outputs": [
    {
     "name": "stdout",
     "output_type": "stream",
     "text": [
      " Train Accuracy = 0.857770800628\n",
      " Test Accuracy \t= 0.790312300829\n"
     ]
    }
   ],
   "source": [
    "clf = MultinomialNB()\n",
    "clf.fit(X_train, y_train)\n",
    "y_pred_train = clf.predict(X_train)\n",
    "y_pred_test = clf.predict(X_test)\n",
    "print(\" Train Accuracy =\",metrics.accuracy_score(y_train,y_pred_train))\n",
    "print(\" Test Accuracy \\t=\",metrics.accuracy_score(y_test,y_pred_test))"
   ]
  },
  {
   "cell_type": "markdown",
   "metadata": {},
   "source": [
    "<h2>Logistic Regression - LwoR</h2>"
   ]
  },
  {
   "cell_type": "code",
   "execution_count": 9,
   "metadata": {},
   "outputs": [
    {
     "name": "stdout",
     "output_type": "stream",
     "text": [
      " Train Accuracy = 0.997174254317\n",
      " Test Accuracy \t= 0.933715742511\n"
     ]
    }
   ],
   "source": [
    "LR_CLF = LogisticRegression(penalty='l2')\n",
    "LR_CLF_fit = LR_CLF.fit(X_train,y_train)\n",
    "y_pred_train = LR_CLF.predict(X_train)\n",
    "LR_CLF_predict = LR_CLF.predict(X_test)\n",
    "print(\" Train Accuracy =\",metrics.accuracy_score(y_train,y_pred_train))\n",
    "print(\" Test Accuracy \\t=\",metrics.accuracy_score(y_test,LR_CLF_predict))"
   ]
  },
  {
   "cell_type": "markdown",
   "metadata": {},
   "source": [
    "<h2>SVM -LwoR</h2>"
   ]
  },
  {
   "cell_type": "code",
   "execution_count": 10,
   "metadata": {},
   "outputs": [
    {
     "name": "stdout",
     "output_type": "stream",
     "text": [
      " Train Accuracy = 1.0\n",
      " Test Accuracy \t= 0.932441045252\n"
     ]
    }
   ],
   "source": [
    "linsvc = svm.LinearSVC(penalty='l2', loss='squared_hinge', dual=True, tol=0.0001, C=1.0, multi_class='ovr', fit_intercept=True, intercept_scaling=1, class_weight=None, verbose=0, random_state=None, max_iter=1000)\n",
    "linsvc.fit(X_train, y_train)\n",
    "y_pred_train = linsvc.predict(X_train)\n",
    "lin_predict = linsvc.predict(X_test)\n",
    "print(\" Train Accuracy =\",metrics.accuracy_score(y_train,y_pred_train))\n",
    "print(\" Test Accuracy \\t=\",metrics.accuracy_score(y_test,lin_predict))"
   ]
  },
  {
   "cell_type": "markdown",
   "metadata": {
    "collapsed": true
   },
   "source": [
    "<h2>Learning with Rationale</h2>"
   ]
  },
  {
   "cell_type": "code",
   "execution_count": 11,
   "metadata": {},
   "outputs": [],
   "source": [
    "chi2score = chi2(X_train, y_train)[0]\n",
    "# len(chi2score)"
   ]
  },
  {
   "cell_type": "code",
   "execution_count": 12,
   "metadata": {
    "collapsed": true
   },
   "outputs": [],
   "source": [
    "def get_rationale_ChiSquare(tweet_rat_set):\n",
    "    f_chi =[]\n",
    "    f_chi_val=[]\n",
    "    tweet_rat_list= list(tweet_rat_set)\n",
    "    for r in tweet_rat_list:\n",
    "        arg = features.index(r)\n",
    "        f_chi.append(r)\n",
    "        f_chi_val.append(chi2score[arg])\n",
    "    rat = f_chi[np.argmax(f_chi_val)]\n",
    "    return rat"
   ]
  },
  {
   "cell_type": "code",
   "execution_count": 13,
   "metadata": {},
   "outputs": [
    {
     "data": {
      "text/plain": [
       "(3185, 6648)"
      ]
     },
     "execution_count": 13,
     "metadata": {},
     "output_type": "execute_result"
    }
   ],
   "source": [
    "X_train.shape"
   ]
  },
  {
   "cell_type": "code",
   "execution_count": 14,
   "metadata": {},
   "outputs": [],
   "source": [
    "# print(count_vect.get_feature_names())\n",
    "features = count_vect.get_feature_names()\n",
    "# len(features)"
   ]
  },
  {
   "cell_type": "code",
   "execution_count": 15,
   "metadata": {},
   "outputs": [
    {
     "name": "stdout",
     "output_type": "stream",
     "text": [
      "<class 'list'>\n"
     ]
    }
   ],
   "source": [
    "featurelist = []\n",
    "\n",
    "r=1\n",
    "# o =0.1\n",
    "o=0.01\n",
    "for tweetNum in range(0,X_train.shape[0]):\n",
    "#     print(\"TweetNum = \"+str(tweetNum))\n",
    "    l1 = X_train[tweetNum].indices.tolist()\n",
    "    l2 = X_train[tweetNum].data.tolist()\n",
    "\n",
    "    weight = 0\n",
    "    tweet_rationales={}\n",
    "    tweetfeatures =[]\n",
    "    for i in range(0,len(l1)):\n",
    "        tweetfeatures.append(features[l1[i]])\n",
    "    \n",
    "    tweet_rationale=\"\"\n",
    "    if (set(rationale) & set(tweetfeatures)):\n",
    "        tweet_rationales_set = set(rationale) & set(tweetfeatures)\n",
    "        tweet_rationale = get_rationale_ChiSquare(tweet_rationales_set)\n",
    "\n",
    "    #print(tweet_rationale)\n",
    "    for i in range(0,len(l1)):\n",
    "        if tweet_rationale == features[l1[i]] and tweet_rationale!=\"\":\n",
    "#             print(\"R \"+tweet_rationale)\n",
    "            weight = l2[i]*r\n",
    "        else:\n",
    "            weight = l2[i]*o\n",
    "\n",
    "               \n",
    "#         print(features[l1[i]]+ \" \"+str(weight))\n",
    "        featurelist.append([tweetNum,l1[i],weight])\n",
    "                \n",
    "#         print(features[l1[i]]+ \" \"+str(l2[i]*o))\n",
    "#         featurelist.append([tweetNum,l1[i],l2[i]*o])\n",
    "                \n",
    "# print(featurelist)\n",
    "print(type(featurelist))\n",
    "# len(featurelist)"
   ]
  },
  {
   "cell_type": "code",
   "execution_count": 16,
   "metadata": {},
   "outputs": [
    {
     "name": "stdout",
     "output_type": "stream",
     "text": [
      "(3185, 6648)\n",
      "(1569, 6648)\n"
     ]
    }
   ],
   "source": [
    "# X_train_featurelist = get_Rationale_FeatureList(X_train)\n",
    "rows,cols,vals = zip(*featurelist)\n",
    "X_train_LWR = csr_matrix((vals,(rows,cols)))\n",
    "#print(count_vect.get_feature_names())\n",
    "\n",
    "print((X_train_LWR.shape))\n",
    "print(X_test.shape)"
   ]
  },
  {
   "cell_type": "markdown",
   "metadata": {},
   "source": [
    "<h2>Multinomial Naive Bayes - LwR </h2>"
   ]
  },
  {
   "cell_type": "code",
   "execution_count": 17,
   "metadata": {},
   "outputs": [
    {
     "name": "stdout",
     "output_type": "stream",
     "text": [
      " Train Accuracy = 0.932182103611\n",
      " Test Accuracy \t= 0.896749521989\n"
     ]
    }
   ],
   "source": [
    "clf = MultinomialNB()\n",
    "clf.fit(X_train_LWR, y_train)\n",
    "y_pred_LWR = clf.predict(X_test)\n",
    "y_pred_train_LWR = clf.predict(X_train_LWR)\n",
    "print(\" Train Accuracy =\",metrics.accuracy_score(y_train,y_pred_train_LWR))\n",
    "print(\" Test Accuracy \\t=\",metrics.accuracy_score(y_test,y_pred_LWR))"
   ]
  },
  {
   "cell_type": "markdown",
   "metadata": {},
   "source": [
    "<h2>Logistic Regression - LWR</h2>"
   ]
  },
  {
   "cell_type": "code",
   "execution_count": 18,
   "metadata": {},
   "outputs": [
    {
     "name": "stdout",
     "output_type": "stream",
     "text": [
      " Train Accuracy = 0.932182103611\n",
      " Test Accuracy \t= 0.940089228808\n"
     ]
    }
   ],
   "source": [
    "LR_CLF = LogisticRegression(penalty='l2')\n",
    "LR_CLF_fit = LR_CLF.fit(X_train_LWR,y_train)\n",
    "LR_CLF_predict = LR_CLF.predict(X_test)\n",
    "y_pred_train_LWR = LR_CLF.predict(X_train_LWR)\n",
    "print(\" Train Accuracy =\",metrics.accuracy_score(y_train,y_pred_train_LWR))\n",
    "print(\" Test Accuracy \\t=\",metrics.accuracy_score(y_test,LR_CLF_predict))"
   ]
  },
  {
   "cell_type": "markdown",
   "metadata": {},
   "source": [
    "<h2>Linear SVC -LWR </h2>"
   ]
  },
  {
   "cell_type": "code",
   "execution_count": 19,
   "metadata": {},
   "outputs": [
    {
     "name": "stdout",
     "output_type": "stream",
     "text": [
      " Train Accuracy = 0.932182103611\n",
      " Test Accuracy \t= 0.85022307202\n"
     ]
    }
   ],
   "source": [
    "linsvc = svm.LinearSVC(penalty='l2', loss='squared_hinge', dual=True, tol=0.0001, C=1.0, multi_class='ovr', fit_intercept=True, intercept_scaling=1, class_weight=None, verbose=0, random_state=None, max_iter=1000)\n",
    "linsvc.fit(X_train_LWR, y_train)\n",
    "lin_predict = linsvc.predict(X_test)\n",
    "y_pred_train_LWR = linsvc.predict(X_train_LWR)\n",
    "print(\" Train Accuracy =\",metrics.accuracy_score(y_train,y_pred_train_LWR))\n",
    "print(\" Test Accuracy \\t=\",metrics.accuracy_score(y_test,lin_predict))"
   ]
  },
  {
   "cell_type": "markdown",
   "metadata": {},
   "source": [
    "<h1>Using Tfidf Vectorizer</h1>"
   ]
  },
  {
   "cell_type": "markdown",
   "metadata": {},
   "source": [
    "<h2>Learning without Rationale</h2>"
   ]
  },
  {
   "cell_type": "code",
   "execution_count": 20,
   "metadata": {
    "collapsed": true
   },
   "outputs": [],
   "source": [
    "X_train,X_test,y_train,y_test = train_test_split(X,y,test_size = 0.33, random_state = 0)\n",
    "tfidf_vect = TfidfVectorizer()\n",
    "X_train = tfidf_vect.fit_transform(X_train)\n",
    "X_test = tfidf_vect.transform(X_test)"
   ]
  },
  {
   "cell_type": "markdown",
   "metadata": {},
   "source": [
    "<h2>Multinomial Naive Bayes</h2>"
   ]
  },
  {
   "cell_type": "code",
   "execution_count": 21,
   "metadata": {},
   "outputs": [
    {
     "name": "stdout",
     "output_type": "stream",
     "text": [
      " Train Accuracy = 0.880062794349\n",
      " Test Accuracy \t= 0.806883365201\n"
     ]
    }
   ],
   "source": [
    "clf = MultinomialNB()\n",
    "clf.fit(X_train, y_train)\n",
    "y_pred_test = clf.predict(X_test)\n",
    "y_pred_train = clf.predict(X_train)\n",
    "print(\" Train Accuracy =\",metrics.accuracy_score(y_train,y_pred_train))\n",
    "print(\" Test Accuracy \\t=\",metrics.accuracy_score(y_test,y_pred_test))"
   ]
  },
  {
   "cell_type": "markdown",
   "metadata": {},
   "source": [
    "<h2>Logistic Regression</h2>"
   ]
  },
  {
   "cell_type": "code",
   "execution_count": 22,
   "metadata": {},
   "outputs": [
    {
     "name": "stdout",
     "output_type": "stream",
     "text": [
      " Train Accuracy = 0.958241758242\n",
      " Test Accuracy \t= 0.883365200765\n"
     ]
    }
   ],
   "source": [
    "LR_CLF = LogisticRegression(penalty='l2')\n",
    "LR_CLF_fit = LR_CLF.fit(X_train,y_train)\n",
    "LR_CLF_predict = LR_CLF.predict(X_test)\n",
    "y_pred_train = LR_CLF.predict(X_train)\n",
    "print(\" Train Accuracy =\",metrics.accuracy_score(y_train,y_pred_train))\n",
    "print(\" Test Accuracy \\t=\",metrics.accuracy_score(y_test,LR_CLF_predict))"
   ]
  },
  {
   "cell_type": "markdown",
   "metadata": {},
   "source": [
    "<h2>LinearSVC</h2>"
   ]
  },
  {
   "cell_type": "code",
   "execution_count": 23,
   "metadata": {},
   "outputs": [
    {
     "name": "stdout",
     "output_type": "stream",
     "text": [
      " Train Accuracy = 0.999058084772\n",
      " Test Accuracy \t= 0.912683237731\n"
     ]
    }
   ],
   "source": [
    "linsvc = svm.LinearSVC(penalty='l2', loss='squared_hinge', dual=True, tol=0.0001, C=1.0, multi_class='ovr', fit_intercept=True, intercept_scaling=1, class_weight=None, verbose=0, random_state=None, max_iter=1000)\n",
    "linsvc.fit(X_train, y_train)\n",
    "lin_predict = linsvc.predict(X_test)\n",
    "y_pred_train = linsvc.predict(X_train)\n",
    "print(\" Train Accuracy =\",metrics.accuracy_score(y_train,y_pred_train))\n",
    "\n",
    "print(\" Test Accuracy \\t=\",metrics.accuracy_score(y_test,lin_predict))"
   ]
  },
  {
   "cell_type": "markdown",
   "metadata": {},
   "source": [
    "<h2>Learning with Rationale</h2>"
   ]
  },
  {
   "cell_type": "code",
   "execution_count": 24,
   "metadata": {
    "collapsed": true
   },
   "outputs": [],
   "source": [
    "chi2score = chi2(X_train, y_train)[0]"
   ]
  },
  {
   "cell_type": "code",
   "execution_count": 25,
   "metadata": {
    "collapsed": true
   },
   "outputs": [],
   "source": [
    "def get_rationale_ChiSquare(tweet_rat_set):\n",
    "    f_chi =[]\n",
    "    f_chi_val=[]\n",
    "    tweet_rat_list= list(tweet_rat_set)\n",
    "    for r in tweet_rat_list:\n",
    "        arg = features.index(r)\n",
    "        f_chi.append(r)\n",
    "        f_chi_val.append(chi2score[arg])\n",
    "    rat = f_chi[np.argmax(f_chi_val)]\n",
    "    return rat"
   ]
  },
  {
   "cell_type": "code",
   "execution_count": 26,
   "metadata": {
    "collapsed": true
   },
   "outputs": [],
   "source": [
    "features = tfidf_vect.get_feature_names()"
   ]
  },
  {
   "cell_type": "code",
   "execution_count": 27,
   "metadata": {},
   "outputs": [
    {
     "name": "stdout",
     "output_type": "stream",
     "text": [
      "<class 'list'>\n"
     ]
    }
   ],
   "source": [
    "featurelist = []\n",
    "\n",
    "r=1\n",
    "o=0.01\n",
    "for tweetNum in range(0,X_train.shape[0]):\n",
    "#     print(\"TweetNum = \"+str(tweetNum))\n",
    "    l1 = X_train[tweetNum].indices.tolist()\n",
    "    l2 = X_train[tweetNum].data.tolist()\n",
    "\n",
    "    weight = 0\n",
    "    tweet_rationales={}\n",
    "    tweetfeatures =[]\n",
    "    for i in range(0,len(l1)):\n",
    "        tweetfeatures.append(features[l1[i]])\n",
    "    \n",
    "    tweet_rationale=\"\"\n",
    "    if (set(rationale) & set(tweetfeatures)):\n",
    "        tweet_rationales_set = set(rationale) & set(tweetfeatures)\n",
    "        tweet_rationale = get_rationale_ChiSquare(tweet_rationales_set)\n",
    "\n",
    "    #print(tweet_rationale)\n",
    "    for i in range(0,len(l1)):\n",
    "        if tweet_rationale == features[l1[i]] and tweet_rationale!=\"\":\n",
    "#             print(\"R \"+tweet_rationale)\n",
    "            weight = l2[i]*r\n",
    "        else:\n",
    "            weight = l2[i]*o\n",
    "\n",
    "               \n",
    "#         print(features[l1[i]]+ \" \"+str(weight))\n",
    "        featurelist.append([tweetNum,l1[i],weight])\n",
    "                \n",
    "#         print(features[l1[i]]+ \" \"+str(l2[i]*o))\n",
    "#         featurelist.append([tweetNum,l1[i],l2[i]*o])\n",
    "                \n",
    "# print(featurelist)\n",
    "print(type(featurelist))\n",
    "# len(featurelist)"
   ]
  },
  {
   "cell_type": "code",
   "execution_count": 28,
   "metadata": {
    "collapsed": true
   },
   "outputs": [],
   "source": [
    "rows,cols,vals = zip(*featurelist)\n",
    "X_train_LWR = csr_matrix((vals,(rows,cols)))"
   ]
  },
  {
   "cell_type": "markdown",
   "metadata": {},
   "source": [
    "<h2>MultinomialNB</h2>"
   ]
  },
  {
   "cell_type": "code",
   "execution_count": 29,
   "metadata": {},
   "outputs": [
    {
     "name": "stdout",
     "output_type": "stream",
     "text": [
      " Train Accuracy = 0.934693877551\n",
      " Test Accuracy \t= 0.927979604844\n"
     ]
    }
   ],
   "source": [
    "clf = MultinomialNB()\n",
    "clf.fit(X_train_LWR, y_train)\n",
    "y_pred_train_LWR = clf.predict(X_train_LWR)\n",
    "print(\" Train Accuracy =\",metrics.accuracy_score(y_train,y_pred_train_LWR))\n",
    "y_pred_LWR = clf.predict(X_test)\n",
    "print(\" Test Accuracy \\t=\",metrics.accuracy_score(y_test,y_pred_LWR))"
   ]
  },
  {
   "cell_type": "markdown",
   "metadata": {},
   "source": [
    "<h2>Logistic Regression</h2>"
   ]
  },
  {
   "cell_type": "code",
   "execution_count": 30,
   "metadata": {},
   "outputs": [
    {
     "name": "stdout",
     "output_type": "stream",
     "text": [
      " Train Accuracy = 0.932182103611\n",
      " Test Accuracy \t= 0.934353091141\n"
     ]
    }
   ],
   "source": [
    "LR_CLF = LogisticRegression(penalty='l2')\n",
    "LR_CLF_fit = LR_CLF.fit(X_train_LWR,y_train)\n",
    "y_pred_train_LWR = LR_CLF.predict(X_train_LWR)\n",
    "print(\" Train Accuracy =\",metrics.accuracy_score(y_train,y_pred_train_LWR))\n",
    "\n",
    "LR_CLF_predict = LR_CLF.predict(X_test)\n",
    "print(\" Test Accuracy \\t=\",metrics.accuracy_score(y_test,LR_CLF_predict))"
   ]
  },
  {
   "cell_type": "markdown",
   "metadata": {},
   "source": [
    "<h2>Linear SVC</h2>"
   ]
  },
  {
   "cell_type": "code",
   "execution_count": 31,
   "metadata": {},
   "outputs": [
    {
     "name": "stdout",
     "output_type": "stream",
     "text": [
      " Train Accuracy = 0.934693877551\n",
      " Test Accuracy \t= 0.934353091141\n"
     ]
    }
   ],
   "source": [
    "linsvc = svm.LinearSVC(penalty='l2', loss='squared_hinge', dual=True, tol=0.0001, C=1.0, multi_class='ovr', fit_intercept=True, intercept_scaling=1, class_weight=None, verbose=0, random_state=None, max_iter=1000)\n",
    "linsvc.fit(X_train_LWR, y_train)\n",
    "y_pred_train_LWR = linsvc.predict(X_train_LWR)\n",
    "print(\" Train Accuracy =\",metrics.accuracy_score(y_train,y_pred_train_LWR))\n",
    "\n",
    "lin_predict = linsvc.predict(X_test)\n",
    "print(\" Test Accuracy \\t=\",metrics.accuracy_score(y_test,lin_predict))"
   ]
  },
  {
   "cell_type": "code",
   "execution_count": 32,
   "metadata": {},
   "outputs": [],
   "source": [
    "X_train,X_test,y_train,y_test = train_test_split(X,y,test_size = 0.33, random_state = 0)\n",
    "tfidf_vect = TfidfVectorizer()\n",
    "X_train = tfidf_vect.fit_transform(X_train)\n",
    "X_test = tfidf_vect.transform(X_test)\n",
    "splitlist = [50,100,150,200]\n",
    "clf = MultinomialNB()\n",
    "LR_CLF = LogisticRegression(penalty='l2')\n",
    "linsvc = svm.LinearSVC(penalty='l2', loss='squared_hinge', dual=True, tol=0.0001, C=1.0, multi_class='ovr', fit_intercept=True, intercept_scaling=1, class_weight=None, verbose=0, random_state=None, max_iter=1000)\n",
    "# print(y_test[:20])"
   ]
  },
  {
   "cell_type": "code",
   "execution_count": 33,
   "metadata": {},
   "outputs": [],
   "source": [
    "acc_LwoR_NB =[]\n",
    "acc_LwoR_LR =[]\n",
    "acc_LwoR_SVM = []\n",
    "\n",
    "for trainvalue in splitlist:\n",
    "#     print(trainvalue)\n",
    "    X_train_LwoR =X_train[:trainvalue]\n",
    "    y_train_LwoR =y_train[:trainvalue]\n",
    "#     print(y_train_LwoR)\n",
    "    clf.fit(X_train_LwoR, y_train_LwoR)\n",
    "    y_pred_LwoR = clf.predict(X_test)\n",
    "    acc_LwoR_NB.append(metrics.accuracy_score(y_test,y_pred_LwoR))\n",
    "#     print(\"Multinomial NB Test Accuracy \"+str(trainvalue)+\"docs for train\\t=\",metrics.accuracy_score(y_test,y_pred_LwoR))\n",
    "    \n",
    "    LR_CLF_fit = LR_CLF.fit(X_train_LwoR,y_train_LwoR)\n",
    "    yLR_LwoR = LR_CLF.predict(X_test)\n",
    "    acc_LwoR_LR.append(metrics.accuracy_score(y_test,yLR_LwoR))\n",
    "#     print(\"Logistic Regression Test Accuracy \"+str(trainvalue)+\" docs for train\\t=\",metrics.accuracy_score(y_test,yLR_LwoR))\n",
    "    \n",
    "    linsvc.fit(X_train_LwoR, y_train_LwoR)\n",
    "    ylin_LwoR = linsvc.predict(X_test)\n",
    "    acc_LwoR_SVM.append(metrics.accuracy_score(y_test,ylin_LwoR))\n",
    "#     print(\"Linear SVC Test Accuracy \"+str(trainvalue)+\" docs for train\\t=\",metrics.accuracy_score(y_test,ylin_LwoR))"
   ]
  },
  {
   "cell_type": "code",
   "execution_count": 34,
   "metadata": {},
   "outputs": [],
   "source": [
    "acc_LwR_NB =[]\n",
    "acc_LwR_LR =[]\n",
    "acc_LwR_SVM = []\n",
    "# print(X_test.shape)\n",
    "# print(y_test.shape)\n",
    "for trainvalue in splitlist:\n",
    "#     print(trainvalue)\n",
    "    X_train_LwR =X_train_LWR[:trainvalue]\n",
    "    y_train_LwR =y_train[:trainvalue]\n",
    "#     print(X_train_LwR.shape)\n",
    "    clf.fit(X_train_LwR, y_train_LwR)\n",
    "    y_pred_LwR = clf.predict(X_test)\n",
    "    acc_LwR_NB.append(metrics.accuracy_score(y_test,y_pred_LwR))\n",
    "#     print(\"Multinomial NB Test Accuracy \"+str(trainvalue)+\"docs for train\\t=\",metrics.accuracy_score(y_test,y_pred_LwR))\n",
    "    \n",
    "    LR_CLF_fit = LR_CLF.fit(X_train_LwR,y_train_LwR)\n",
    "    yLR_LwR = LR_CLF.predict(X_test)\n",
    "    acc_LwR_LR.append(metrics.accuracy_score(y_test,yLR_LwR))\n",
    "#     print(\"Logistic Regression Test Accuracy \"+str(trainvalue)+\" docs for train\\t=\",metrics.accuracy_score(y_test,yLR_LwR))\n",
    "    \n",
    "    linsvc.fit(X_train_LwR, y_train_LwR)\n",
    "    ylin_LwR = linsvc.predict(X_test)\n",
    "    acc_LwR_SVM.append(metrics.accuracy_score(y_test,ylin_LwR))\n",
    "#     print(\"Linear SVC Test Accuracy \"+str(trainvalue)+\" docs for train\\t=\",metrics.accuracy_score(y_test,ylin_LwR))"
   ]
  },
  {
   "cell_type": "code",
   "execution_count": null,
   "metadata": {},
   "outputs": [],
   "source": []
  },
  {
   "cell_type": "code",
   "execution_count": 39,
   "metadata": {},
   "outputs": [
    {
     "data": {
      "image/png": "[encoded data removed]",
      "text/plain": [
       "<matplotlib.figure.Figure at 0x7f547ddae518>"
      ]
     },
     "metadata": {},
     "output_type": "display_data"
    }
   ],
   "source": [
    "fig, ax = plt.subplots()\n",
    "line1, = ax.plot(splitlist,acc_LwoR_NB,'b', linewidth=2,\n",
    "                 label='Learning with out rationale')\n",
    "\n",
    "line2, = ax.plot(splitlist, acc_LwR_NB,'r',label='Learning with raionale')\n",
    "ax.set_title(\"Multinomial Naive Bayes\")\n",
    "ax.legend(loc='lower right')\n",
    "plt.xlabel(\"Number of tweets\")\n",
    "plt.ylabel(\"Accuracy\")\n",
    "plt.show()"
   ]
  },
  {
   "cell_type": "code",
   "execution_count": 40,
   "metadata": {},
   "outputs": [
    {
     "data": {
      "image/png": "[encoded data removed]",
      "text/plain": [
       "<matplotlib.figure.Figure at 0x7f5479f96cf8>"
      ]
     },
     "metadata": {},
     "output_type": "display_data"
    }
   ],
   "source": [
    "fig, ax = plt.subplots()\n",
    "line1, = ax.plot(splitlist,acc_LwoR_LR,'b', linewidth=2,\n",
    "                 label='Learning with out rationale')\n",
    "line2, = ax.plot(splitlist, acc_LwR_LR,'r',label='Learning with raionale')\n",
    "ax.set_title(\"Logistic Regression\")\n",
    "ax.legend(loc='lower right')\n",
    "plt.xlabel(\"Number of tweets\")\n",
    "plt.ylabel(\"Accuracy\")\n",
    "plt.show()"
   ]
  },
  {
   "cell_type": "code",
   "execution_count": 41,
   "metadata": {},
   "outputs": [
    {
     "data": {
      "image/png": "[encoded data removed]",
      "text/plain": [
       "<matplotlib.figure.Figure at 0x7f5479e174e0>"
      ]
     },
     "metadata": {},
     "output_type": "display_data"
    }
   ],
   "source": [
    "fig, ax = plt.subplots()\n",
    "line1, = ax.plot(splitlist,acc_LwoR_SVM,'b', linewidth=2,\n",
    "                 label='Learning with out rationale')\n",
    "line2, = ax.plot(splitlist, acc_LwR_SVM,'r',label='Learning with raionale')\n",
    "ax.set_title(\"Linear SVC\")\n",
    "ax.legend(loc='lower right')\n",
    "plt.xlabel(\"Number of tweets\")\n",
    "plt.ylabel(\"Accuracy\")\n",
    "plt.show()"
   ]
  }
 ],
 "metadata": {
  "kernelspec": {
   "display_name": "Python 3",
   "language": "python",
   "name": "python3"
  },
  "language_info": {
   "codemirror_mode": {
    "name": "ipython",
    "version": 3
   },
   "file_extension": ".py",
   "mimetype": "text/x-python",
   "name": "python",
   "nbconvert_exporter": "python",
   "pygments_lexer": "ipython3",
   "version": "3.6.1"
  }
 },
 "nbformat": 4,
 "nbformat_minor": 2
}
